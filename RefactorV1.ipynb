{
 "cells": [
  {
   "cell_type": "markdown",
   "metadata": {},
   "source": [
    "# Lending Club Case Study"
   ]
  },
  {
   "cell_type": "markdown",
   "metadata": {},
   "source": [
    "## **1. Introduction**\n",
    "\n"
   ]
  },
  {
   "cell_type": "markdown",
   "metadata": {},
   "source": [
    "### **1.1. Objective**\n",
    "Analyse the given data set of a leading lending company, identify the risks and issues with the applicant's borrowing pattern. Prepare a detailed case study document highlighting the risks involved and provide my observation and recommendations."
   ]
  },
  {
   "cell_type": "markdown",
   "metadata": {},
   "source": [
    "### **1.2. Problem Statement**\n",
    "- Make a decision on a loan application when it's received based on the risk factors\n",
    "- Should not reject an application if the applicant has the potential to repay the loan\n",
    "- Should not approve an application if the applicant could possibly default"
   ]
  },
  {
   "cell_type": "markdown",
   "metadata": {},
   "source": [
    "## **2. Data Understanding**\n",
    "\n"
   ]
  },
  {
   "cell_type": "markdown",
   "metadata": {},
   "source": [
    "### **2.1. Import necessary libraries**\n"
   ]
  },
  {
   "cell_type": "code",
   "execution_count": 10,
   "metadata": {},
   "outputs": [
    {
     "data": {
      "text/plain": [
       "<Figure size 1200x400 with 0 Axes>"
      ]
     },
     "metadata": {},
     "output_type": "display_data"
    }
   ],
   "source": [
    "import numpy as np\n",
    "import pandas as pd\n",
    "import matplotlib.pyplot as plt\n",
    "import seaborn as sns\n",
    "\n",
    "# Pandas by default doesn't display all the columns in the dataframe\n",
    "# As we're going to work on a large dataset, the following setting will help read data from all the columns\n",
    "pd.set_option('display.max_columns', None)\n",
    "\n",
    "# For some of the columns we may have to see the data from all rows\n",
    "# Eg: Categorical columns.\n",
    "pd.set_option('display.max_rows', None)\n",
    "\n",
    "# Set themes, styles and color palette for seaborn charts\n",
    "sns.set_theme(style='darkgrid', context='paper')\n",
    "sns.set_palette(palette='pastel')\n",
    "\n",
    "plt.figure(figsize=(12, 4))\n",
    "\n",
    "plt.rcParams[\"axes.titlesize\"] = 14 \n",
    "plt.rcParams[\"axes.labelsize\"] = 12 \n",
    "plt.rcParams[\"xtick.labelsize\"] = 10 \n",
    "plt.rcParams[\"ytick.labelsize\"] = 10 "
   ]
  },
  {
   "cell_type": "markdown",
   "metadata": {},
   "source": [
    "### **2.2. Data Overview**"
   ]
  },
  {
   "cell_type": "code",
   "execution_count": 11,
   "metadata": {},
   "outputs": [
    {
     "data": {
      "text/plain": [
       "(39717, 111)"
      ]
     },
     "execution_count": 11,
     "metadata": {},
     "output_type": "execute_result"
    }
   ],
   "source": [
    "# Load the data from loan.csv file. \n",
    "# Using the read_csv function from the pandas library, we can load the data from the csv to a pandas dataframe.\n",
    "df = pd.read_csv('Data/loan.csv', low_memory=False)\n",
    "\n",
    "# Shape property of the pandas dataframe returns the dimention of the dataframe\n",
    "# The return value will contain the number of rows and columns in the dataframe\n",
    "df.shape\n",
    "\n",
    "# Quick observation\n",
    "#-------------------\n",
    "# 1. There are 39717 rows and\n",
    "# 2. There are 111 columns\n",
    "#-------------------"
   ]
  },
  {
   "cell_type": "code",
   "execution_count": 12,
   "metadata": {},
   "outputs": [
    {
     "data": {
      "text/plain": [
       "id                                  int64\n",
       "member_id                           int64\n",
       "loan_amnt                           int64\n",
       "funded_amnt                         int64\n",
       "funded_amnt_inv                   float64\n",
       "term                               object\n",
       "int_rate                           object\n",
       "installment                       float64\n",
       "grade                              object\n",
       "sub_grade                          object\n",
       "emp_title                          object\n",
       "emp_length                         object\n",
       "home_ownership                     object\n",
       "annual_inc                        float64\n",
       "verification_status                object\n",
       "issue_d                            object\n",
       "loan_status                        object\n",
       "pymnt_plan                         object\n",
       "url                                object\n",
       "desc                               object\n",
       "purpose                            object\n",
       "title                              object\n",
       "zip_code                           object\n",
       "addr_state                         object\n",
       "dti                               float64\n",
       "delinq_2yrs                         int64\n",
       "earliest_cr_line                   object\n",
       "inq_last_6mths                      int64\n",
       "mths_since_last_delinq            float64\n",
       "mths_since_last_record            float64\n",
       "open_acc                            int64\n",
       "pub_rec                             int64\n",
       "revol_bal                           int64\n",
       "revol_util                         object\n",
       "total_acc                           int64\n",
       "initial_list_status                object\n",
       "out_prncp                         float64\n",
       "out_prncp_inv                     float64\n",
       "total_pymnt                       float64\n",
       "total_pymnt_inv                   float64\n",
       "total_rec_prncp                   float64\n",
       "total_rec_int                     float64\n",
       "total_rec_late_fee                float64\n",
       "recoveries                        float64\n",
       "collection_recovery_fee           float64\n",
       "last_pymnt_d                       object\n",
       "last_pymnt_amnt                   float64\n",
       "next_pymnt_d                       object\n",
       "last_credit_pull_d                 object\n",
       "collections_12_mths_ex_med        float64\n",
       "mths_since_last_major_derog       float64\n",
       "policy_code                         int64\n",
       "application_type                   object\n",
       "annual_inc_joint                  float64\n",
       "dti_joint                         float64\n",
       "verification_status_joint         float64\n",
       "acc_now_delinq                      int64\n",
       "tot_coll_amt                      float64\n",
       "tot_cur_bal                       float64\n",
       "open_acc_6m                       float64\n",
       "open_il_6m                        float64\n",
       "open_il_12m                       float64\n",
       "open_il_24m                       float64\n",
       "mths_since_rcnt_il                float64\n",
       "total_bal_il                      float64\n",
       "il_util                           float64\n",
       "open_rv_12m                       float64\n",
       "open_rv_24m                       float64\n",
       "max_bal_bc                        float64\n",
       "all_util                          float64\n",
       "total_rev_hi_lim                  float64\n",
       "inq_fi                            float64\n",
       "total_cu_tl                       float64\n",
       "inq_last_12m                      float64\n",
       "acc_open_past_24mths              float64\n",
       "avg_cur_bal                       float64\n",
       "bc_open_to_buy                    float64\n",
       "bc_util                           float64\n",
       "chargeoff_within_12_mths          float64\n",
       "delinq_amnt                         int64\n",
       "mo_sin_old_il_acct                float64\n",
       "mo_sin_old_rev_tl_op              float64\n",
       "mo_sin_rcnt_rev_tl_op             float64\n",
       "mo_sin_rcnt_tl                    float64\n",
       "mort_acc                          float64\n",
       "mths_since_recent_bc              float64\n",
       "mths_since_recent_bc_dlq          float64\n",
       "mths_since_recent_inq             float64\n",
       "mths_since_recent_revol_delinq    float64\n",
       "num_accts_ever_120_pd             float64\n",
       "num_actv_bc_tl                    float64\n",
       "num_actv_rev_tl                   float64\n",
       "num_bc_sats                       float64\n",
       "num_bc_tl                         float64\n",
       "num_il_tl                         float64\n",
       "num_op_rev_tl                     float64\n",
       "num_rev_accts                     float64\n",
       "num_rev_tl_bal_gt_0               float64\n",
       "num_sats                          float64\n",
       "num_tl_120dpd_2m                  float64\n",
       "num_tl_30dpd                      float64\n",
       "num_tl_90g_dpd_24m                float64\n",
       "num_tl_op_past_12m                float64\n",
       "pct_tl_nvr_dlq                    float64\n",
       "percent_bc_gt_75                  float64\n",
       "pub_rec_bankruptcies              float64\n",
       "tax_liens                         float64\n",
       "tot_hi_cred_lim                   float64\n",
       "total_bal_ex_mort                 float64\n",
       "total_bc_limit                    float64\n",
       "total_il_high_credit_limit        float64\n",
       "dtype: object"
      ]
     },
     "execution_count": 12,
     "metadata": {},
     "output_type": "execute_result"
    }
   ],
   "source": [
    "df.dtypes\n",
    "\n",
    "# Looking into the dtypes property of the dataframe, help us understand the data type of each column\n",
    "#\n",
    "# Quick observation\n",
    "#-------------------\n",
    "# 1. Most of the columns are of type object.\n",
    "# 2. `issue_d` looks like a date column\n",
    "# 3. `grade`, `sub_grade`, `term`, `loan_status`, `verification_status` etc. looks like category columns\n",
    "# 4. Columns like `id`, `member_id`, `url`, `desc` may not be useful for analysing the risk. Hence can be removed.\n",
    "#-------------------"
   ]
  },
  {
   "cell_type": "code",
   "execution_count": 15,
   "metadata": {},
   "outputs": [
    {
     "data": {
      "text/plain": [
       "id                                39717\n",
       "url                               39717\n",
       "member_id                         39717\n",
       "total_pymnt                       37850\n",
       "total_pymnt_inv                   37518\n",
       "total_rec_int                     35148\n",
       "last_pymnt_amnt                   34930\n",
       "emp_title                         28820\n",
       "desc                              26526\n",
       "revol_bal                         21711\n",
       "title                             19615\n",
       "installment                       15383\n",
       "funded_amnt_inv                    8205\n",
       "total_rec_prncp                    7976\n",
       "annual_inc                         5318\n",
       "recoveries                         4040\n",
       "dti                                2868\n",
       "collection_recovery_fee            2616\n",
       "total_rec_late_fee                 1356\n",
       "out_prncp_inv                      1138\n",
       "out_prncp                          1137\n",
       "revol_util                         1089\n",
       "funded_amnt                        1041\n",
       "loan_amnt                           885\n",
       "zip_code                            823\n",
       "earliest_cr_line                    526\n",
       "int_rate                            371\n",
       "mths_since_last_record              111\n",
       "last_credit_pull_d                  106\n",
       "last_pymnt_d                        101\n",
       "mths_since_last_delinq               95\n",
       "total_acc                            82\n",
       "issue_d                              55\n",
       "addr_state                           50\n",
       "open_acc                             40\n",
       "sub_grade                            35\n",
       "purpose                              14\n",
       "delinq_2yrs                          11\n",
       "emp_length                           11\n",
       "inq_last_6mths                        9\n",
       "grade                                 7\n",
       "pub_rec                               5\n",
       "home_ownership                        5\n",
       "pub_rec_bankruptcies                  3\n",
       "loan_status                           3\n",
       "verification_status                   3\n",
       "next_pymnt_d                          2\n",
       "term                                  2\n",
       "tax_liens                             1\n",
       "collections_12_mths_ex_med            1\n",
       "delinq_amnt                           1\n",
       "policy_code                           1\n",
       "application_type                      1\n",
       "chargeoff_within_12_mths              1\n",
       "pymnt_plan                            1\n",
       "acc_now_delinq                        1\n",
       "initial_list_status                   1\n",
       "num_accts_ever_120_pd                 0\n",
       "num_bc_tl                             0\n",
       "num_bc_sats                           0\n",
       "num_actv_rev_tl                       0\n",
       "num_actv_bc_tl                        0\n",
       "num_op_rev_tl                         0\n",
       "mths_since_recent_revol_delinq        0\n",
       "mths_since_recent_inq                 0\n",
       "mths_since_recent_bc_dlq              0\n",
       "mths_since_recent_bc                  0\n",
       "num_il_tl                             0\n",
       "tot_hi_cred_lim                       0\n",
       "num_rev_accts                         0\n",
       "num_rev_tl_bal_gt_0                   0\n",
       "num_sats                              0\n",
       "num_tl_120dpd_2m                      0\n",
       "num_tl_30dpd                          0\n",
       "num_tl_90g_dpd_24m                    0\n",
       "num_tl_op_past_12m                    0\n",
       "pct_tl_nvr_dlq                        0\n",
       "percent_bc_gt_75                      0\n",
       "total_bal_ex_mort                     0\n",
       "total_bc_limit                        0\n",
       "mo_sin_rcnt_tl                        0\n",
       "mort_acc                              0\n",
       "verification_status_joint             0\n",
       "mo_sin_rcnt_rev_tl_op                 0\n",
       "mo_sin_old_rev_tl_op                  0\n",
       "mths_since_last_major_derog           0\n",
       "annual_inc_joint                      0\n",
       "dti_joint                             0\n",
       "tot_coll_amt                          0\n",
       "tot_cur_bal                           0\n",
       "open_acc_6m                           0\n",
       "open_il_6m                            0\n",
       "open_il_12m                           0\n",
       "open_il_24m                           0\n",
       "mths_since_rcnt_il                    0\n",
       "total_bal_il                          0\n",
       "il_util                               0\n",
       "open_rv_12m                           0\n",
       "open_rv_24m                           0\n",
       "max_bal_bc                            0\n",
       "all_util                              0\n",
       "total_rev_hi_lim                      0\n",
       "inq_fi                                0\n",
       "total_cu_tl                           0\n",
       "inq_last_12m                          0\n",
       "acc_open_past_24mths                  0\n",
       "avg_cur_bal                           0\n",
       "bc_open_to_buy                        0\n",
       "bc_util                               0\n",
       "mo_sin_old_il_acct                    0\n",
       "total_il_high_credit_limit            0\n",
       "dtype: int64"
      ]
     },
     "execution_count": 15,
     "metadata": {},
     "output_type": "execute_result"
    }
   ],
   "source": [
    "# Pandas dataframe object offers `nunique` function which give the number of unique elements in each column\n",
    "df.nunique().sort_values(ascending=False)\n",
    "\n",
    "# Quick observation\n",
    "#-------------------\n",
    "# 1. Most of the columns are of type object.\n",
    "# 2. `issue_d` looks like a date column\n",
    "# 3. `grade`, `sub_grade`, `term`, `loan_status`, `verification_status` etc. looks like category columns\n",
    "# 4. Columns like `id`, `member_id`, `url`, `desc` may not be useful for analysing the risk. Hence can be removed.\n",
    "#-------------------"
   ]
  },
  {
   "cell_type": "markdown",
   "metadata": {},
   "source": [
    "## **3. Data Preparation**\n",
    "\n"
   ]
  },
  {
   "cell_type": "markdown",
   "metadata": {},
   "source": [
    "### **3.1. Data Cleaning**\n",
    "- Remove columns\n",
    "- Handle missing / null values\n",
    "- Remove duplicates\n",
    "- Calculate IQR and remove outliers\n",
    "\n"
   ]
  },
  {
   "cell_type": "markdown",
   "metadata": {},
   "source": [
    "### **3.2. Data Engineering**\n",
    "- Create derived columns\n",
    "- Map categorical variables\n",
    "- Convert data types\n",
    "\n"
   ]
  },
  {
   "cell_type": "markdown",
   "metadata": {},
   "source": [
    "### **3.2. Data Exploration**\n",
    "- Summarize initial understanding"
   ]
  },
  {
   "cell_type": "markdown",
   "metadata": {},
   "source": [
    "## **4. Exploratory Data Analysis (EDA)**\n",
    "\n"
   ]
  },
  {
   "cell_type": "markdown",
   "metadata": {},
   "source": [
    "### **4.1. Univariate Analysis**\n",
    "\n"
   ]
  },
  {
   "cell_type": "markdown",
   "metadata": {},
   "source": [
    "#### **4.1.1. Numeric Variables**\n",
    "- Histogram for distribution\n",
    "- Boxplots to find outliers\n",
    "\n"
   ]
  },
  {
   "cell_type": "markdown",
   "metadata": {},
   "source": [
    "#### **4.1.2. Categorical Variables**\n",
    "- Bar charts for frequency distribution\n",
    "\n"
   ]
  },
  {
   "cell_type": "markdown",
   "metadata": {},
   "source": [
    "### **4.2. Segmented Univariate Analysis**\n",
    "- Boxplots by categorical variables\n",
    "\n"
   ]
  },
  {
   "cell_type": "markdown",
   "metadata": {},
   "source": [
    "### **4.3. Bivariate Analysis**\n",
    "\n"
   ]
  },
  {
   "cell_type": "markdown",
   "metadata": {},
   "source": [
    "#### **4.3.1. Numeric Variables by Numeric Variables**\n",
    "- Scatter plots\n",
    "- Correlation heatmaps\n",
    "\n"
   ]
  },
  {
   "cell_type": "markdown",
   "metadata": {},
   "source": [
    "#### **4.3.2. Numeric Variables by Categorical Variables**\n",
    "- Boxplots for comparitive analysis\n",
    "- Violin plots to find the density\n",
    "\n"
   ]
  },
  {
   "cell_type": "markdown",
   "metadata": {},
   "source": [
    "#### **4.3.3. Categorical Variables by Categorical Variables**\n",
    "- Boxplots grouped by categories\n",
    "- Heatmaps to find proportions\n",
    "\n"
   ]
  },
  {
   "cell_type": "markdown",
   "metadata": {},
   "source": [
    "## **5. Summary and Results**\n",
    "\n"
   ]
  },
  {
   "cell_type": "markdown",
   "metadata": {},
   "source": [
    "### **5.1. Summary**\n",
    "- List the summary of insights leading to loan default\n",
    "\n"
   ]
  },
  {
   "cell_type": "markdown",
   "metadata": {},
   "source": [
    "### **5.2. Recommendations**\n"
   ]
  }
 ],
 "metadata": {
  "kernelspec": {
   "display_name": "base",
   "language": "python",
   "name": "python3"
  },
  "language_info": {
   "codemirror_mode": {
    "name": "ipython",
    "version": 3
   },
   "file_extension": ".py",
   "mimetype": "text/x-python",
   "name": "python",
   "nbconvert_exporter": "python",
   "pygments_lexer": "ipython3",
   "version": "3.12.7"
  }
 },
 "nbformat": 4,
 "nbformat_minor": 2
}
