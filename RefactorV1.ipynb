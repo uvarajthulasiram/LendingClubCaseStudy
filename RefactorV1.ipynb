{
 "cells": [
  {
   "cell_type": "markdown",
   "metadata": {},
   "source": [
    "# Lending Club Case Study"
   ]
  },
  {
   "cell_type": "markdown",
   "metadata": {},
   "source": [
    "## **1. Introduction**\n",
    "\n"
   ]
  },
  {
   "cell_type": "markdown",
   "metadata": {},
   "source": [
    "### **1.1. Objective**\n",
    "Analyse the given data set of a leading lending company, identify the risks and issues with the applicant's borrowing pattern. Prepare a detailed case study document highlighting the risks involved and provide my observation and recommendations."
   ]
  },
  {
   "cell_type": "markdown",
   "metadata": {},
   "source": [
    "### **1.2. Problem Statement**\n",
    "- Make a decision on a loan application when it's received based on the risk factors\n",
    "- Should not reject an application if the applicant has the potential to repay the loan\n",
    "- Should not approve an application if the applicant could possibly default"
   ]
  },
  {
   "cell_type": "markdown",
   "metadata": {},
   "source": [
    "## **2. Data Understanding**\n",
    "\n"
   ]
  },
  {
   "cell_type": "markdown",
   "metadata": {},
   "source": [
    "### **2.1. Import necessary libraries**\n"
   ]
  },
  {
   "cell_type": "code",
   "execution_count": 30,
   "metadata": {},
   "outputs": [
    {
     "data": {
      "text/plain": [
       "<Figure size 1200x400 with 0 Axes>"
      ]
     },
     "metadata": {},
     "output_type": "display_data"
    }
   ],
   "source": [
    "import numpy as np\n",
    "import pandas as pd\n",
    "import matplotlib.pyplot as plt\n",
    "import seaborn as sns\n",
    "\n",
    "# Pandas by default doesn't display all the columns in the dataframe\n",
    "# As we're going to work on a large dataset, the following setting will help read data from all the columns\n",
    "pd.set_option('display.max_columns', None)\n",
    "\n",
    "# For some of the columns we may have to see the data from all rows\n",
    "# Eg: Categorical columns.\n",
    "pd.set_option('display.max_rows', None)\n",
    "\n",
    "# Set themes, styles and color palette for seaborn charts\n",
    "sns.set_theme(style='darkgrid', context='paper')\n",
    "sns.set_palette(palette='pastel')\n",
    "\n",
    "plt.figure(figsize=(12, 4))\n",
    "\n",
    "plt.rcParams[\"axes.titlesize\"] = 14 \n",
    "plt.rcParams[\"axes.labelsize\"] = 12 \n",
    "plt.rcParams[\"xtick.labelsize\"] = 10 \n",
    "plt.rcParams[\"ytick.labelsize\"] = 10 "
   ]
  },
  {
   "cell_type": "markdown",
   "metadata": {},
   "source": [
    "### **2.2. Data Overview**"
   ]
  },
  {
   "cell_type": "code",
   "execution_count": 31,
   "metadata": {},
   "outputs": [
    {
     "data": {
      "text/plain": [
       "(39717, 111)"
      ]
     },
     "execution_count": 31,
     "metadata": {},
     "output_type": "execute_result"
    }
   ],
   "source": [
    "# Load the data from loan.csv file. \n",
    "# Using the read_csv function from the pandas library, we can load the data from the csv to a pandas dataframe.\n",
    "df = pd.read_csv('Data/loan.csv', low_memory=False)\n",
    "\n",
    "# Shape property of the pandas dataframe returns the dimention of the dataframe\n",
    "# The return value will contain the number of rows and columns in the dataframe\n",
    "df.shape\n",
    "\n",
    "# Quick observation\n",
    "#-------------------\n",
    "# 1. There are 39717 rows and\n",
    "# 2. There are 111 columns\n",
    "#-------------------"
   ]
  },
  {
   "cell_type": "code",
   "execution_count": 32,
   "metadata": {},
   "outputs": [
    {
     "data": {
      "text/plain": [
       "id                                  int64\n",
       "member_id                           int64\n",
       "loan_amnt                           int64\n",
       "funded_amnt                         int64\n",
       "funded_amnt_inv                   float64\n",
       "term                               object\n",
       "int_rate                           object\n",
       "installment                       float64\n",
       "grade                              object\n",
       "sub_grade                          object\n",
       "emp_title                          object\n",
       "emp_length                         object\n",
       "home_ownership                     object\n",
       "annual_inc                        float64\n",
       "verification_status                object\n",
       "issue_d                            object\n",
       "loan_status                        object\n",
       "pymnt_plan                         object\n",
       "url                                object\n",
       "desc                               object\n",
       "purpose                            object\n",
       "title                              object\n",
       "zip_code                           object\n",
       "addr_state                         object\n",
       "dti                               float64\n",
       "delinq_2yrs                         int64\n",
       "earliest_cr_line                   object\n",
       "inq_last_6mths                      int64\n",
       "mths_since_last_delinq            float64\n",
       "mths_since_last_record            float64\n",
       "open_acc                            int64\n",
       "pub_rec                             int64\n",
       "revol_bal                           int64\n",
       "revol_util                         object\n",
       "total_acc                           int64\n",
       "initial_list_status                object\n",
       "out_prncp                         float64\n",
       "out_prncp_inv                     float64\n",
       "total_pymnt                       float64\n",
       "total_pymnt_inv                   float64\n",
       "total_rec_prncp                   float64\n",
       "total_rec_int                     float64\n",
       "total_rec_late_fee                float64\n",
       "recoveries                        float64\n",
       "collection_recovery_fee           float64\n",
       "last_pymnt_d                       object\n",
       "last_pymnt_amnt                   float64\n",
       "next_pymnt_d                       object\n",
       "last_credit_pull_d                 object\n",
       "collections_12_mths_ex_med        float64\n",
       "mths_since_last_major_derog       float64\n",
       "policy_code                         int64\n",
       "application_type                   object\n",
       "annual_inc_joint                  float64\n",
       "dti_joint                         float64\n",
       "verification_status_joint         float64\n",
       "acc_now_delinq                      int64\n",
       "tot_coll_amt                      float64\n",
       "tot_cur_bal                       float64\n",
       "open_acc_6m                       float64\n",
       "open_il_6m                        float64\n",
       "open_il_12m                       float64\n",
       "open_il_24m                       float64\n",
       "mths_since_rcnt_il                float64\n",
       "total_bal_il                      float64\n",
       "il_util                           float64\n",
       "open_rv_12m                       float64\n",
       "open_rv_24m                       float64\n",
       "max_bal_bc                        float64\n",
       "all_util                          float64\n",
       "total_rev_hi_lim                  float64\n",
       "inq_fi                            float64\n",
       "total_cu_tl                       float64\n",
       "inq_last_12m                      float64\n",
       "acc_open_past_24mths              float64\n",
       "avg_cur_bal                       float64\n",
       "bc_open_to_buy                    float64\n",
       "bc_util                           float64\n",
       "chargeoff_within_12_mths          float64\n",
       "delinq_amnt                         int64\n",
       "mo_sin_old_il_acct                float64\n",
       "mo_sin_old_rev_tl_op              float64\n",
       "mo_sin_rcnt_rev_tl_op             float64\n",
       "mo_sin_rcnt_tl                    float64\n",
       "mort_acc                          float64\n",
       "mths_since_recent_bc              float64\n",
       "mths_since_recent_bc_dlq          float64\n",
       "mths_since_recent_inq             float64\n",
       "mths_since_recent_revol_delinq    float64\n",
       "num_accts_ever_120_pd             float64\n",
       "num_actv_bc_tl                    float64\n",
       "num_actv_rev_tl                   float64\n",
       "num_bc_sats                       float64\n",
       "num_bc_tl                         float64\n",
       "num_il_tl                         float64\n",
       "num_op_rev_tl                     float64\n",
       "num_rev_accts                     float64\n",
       "num_rev_tl_bal_gt_0               float64\n",
       "num_sats                          float64\n",
       "num_tl_120dpd_2m                  float64\n",
       "num_tl_30dpd                      float64\n",
       "num_tl_90g_dpd_24m                float64\n",
       "num_tl_op_past_12m                float64\n",
       "pct_tl_nvr_dlq                    float64\n",
       "percent_bc_gt_75                  float64\n",
       "pub_rec_bankruptcies              float64\n",
       "tax_liens                         float64\n",
       "tot_hi_cred_lim                   float64\n",
       "total_bal_ex_mort                 float64\n",
       "total_bc_limit                    float64\n",
       "total_il_high_credit_limit        float64\n",
       "dtype: object"
      ]
     },
     "execution_count": 32,
     "metadata": {},
     "output_type": "execute_result"
    }
   ],
   "source": [
    "df.dtypes\n",
    "\n",
    "# Looking into the dtypes property of the dataframe, help us understand the data type of each column\n",
    "#\n",
    "# Quick observation\n",
    "#-------------------\n",
    "# 1. Most of the columns are of type object.\n",
    "# 2. `issue_d` looks like a date column. Also other columns with `_d` suffix.\n",
    "# 3. `grade`, `sub_grade`, `term`, `loan_status`, `verification_status` etc. looks like category columns\n",
    "# 4. Columns like `id`, `member_id`, `url`, `desc` may not be useful for analysing the risk. Hence can be removed.\n",
    "#-------------------"
   ]
  },
  {
   "cell_type": "code",
   "execution_count": 33,
   "metadata": {},
   "outputs": [
    {
     "data": {
      "text/plain": [
       "id                                39717\n",
       "url                               39717\n",
       "member_id                         39717\n",
       "total_pymnt                       37850\n",
       "total_pymnt_inv                   37518\n",
       "total_rec_int                     35148\n",
       "last_pymnt_amnt                   34930\n",
       "emp_title                         28820\n",
       "desc                              26526\n",
       "revol_bal                         21711\n",
       "title                             19615\n",
       "installment                       15383\n",
       "funded_amnt_inv                    8205\n",
       "total_rec_prncp                    7976\n",
       "annual_inc                         5318\n",
       "recoveries                         4040\n",
       "dti                                2868\n",
       "collection_recovery_fee            2616\n",
       "total_rec_late_fee                 1356\n",
       "out_prncp_inv                      1138\n",
       "out_prncp                          1137\n",
       "revol_util                         1089\n",
       "funded_amnt                        1041\n",
       "loan_amnt                           885\n",
       "zip_code                            823\n",
       "earliest_cr_line                    526\n",
       "int_rate                            371\n",
       "mths_since_last_record              111\n",
       "last_credit_pull_d                  106\n",
       "last_pymnt_d                        101\n",
       "mths_since_last_delinq               95\n",
       "total_acc                            82\n",
       "issue_d                              55\n",
       "addr_state                           50\n",
       "open_acc                             40\n",
       "sub_grade                            35\n",
       "purpose                              14\n",
       "delinq_2yrs                          11\n",
       "emp_length                           11\n",
       "inq_last_6mths                        9\n",
       "grade                                 7\n",
       "pub_rec                               5\n",
       "home_ownership                        5\n",
       "pub_rec_bankruptcies                  3\n",
       "loan_status                           3\n",
       "verification_status                   3\n",
       "next_pymnt_d                          2\n",
       "term                                  2\n",
       "tax_liens                             1\n",
       "collections_12_mths_ex_med            1\n",
       "delinq_amnt                           1\n",
       "policy_code                           1\n",
       "application_type                      1\n",
       "chargeoff_within_12_mths              1\n",
       "pymnt_plan                            1\n",
       "acc_now_delinq                        1\n",
       "initial_list_status                   1\n",
       "num_accts_ever_120_pd                 0\n",
       "num_bc_tl                             0\n",
       "num_bc_sats                           0\n",
       "num_actv_rev_tl                       0\n",
       "num_actv_bc_tl                        0\n",
       "num_op_rev_tl                         0\n",
       "mths_since_recent_revol_delinq        0\n",
       "mths_since_recent_inq                 0\n",
       "mths_since_recent_bc_dlq              0\n",
       "mths_since_recent_bc                  0\n",
       "num_il_tl                             0\n",
       "tot_hi_cred_lim                       0\n",
       "num_rev_accts                         0\n",
       "num_rev_tl_bal_gt_0                   0\n",
       "num_sats                              0\n",
       "num_tl_120dpd_2m                      0\n",
       "num_tl_30dpd                          0\n",
       "num_tl_90g_dpd_24m                    0\n",
       "num_tl_op_past_12m                    0\n",
       "pct_tl_nvr_dlq                        0\n",
       "percent_bc_gt_75                      0\n",
       "total_bal_ex_mort                     0\n",
       "total_bc_limit                        0\n",
       "mo_sin_rcnt_tl                        0\n",
       "mort_acc                              0\n",
       "verification_status_joint             0\n",
       "mo_sin_rcnt_rev_tl_op                 0\n",
       "mo_sin_old_rev_tl_op                  0\n",
       "mths_since_last_major_derog           0\n",
       "annual_inc_joint                      0\n",
       "dti_joint                             0\n",
       "tot_coll_amt                          0\n",
       "tot_cur_bal                           0\n",
       "open_acc_6m                           0\n",
       "open_il_6m                            0\n",
       "open_il_12m                           0\n",
       "open_il_24m                           0\n",
       "mths_since_rcnt_il                    0\n",
       "total_bal_il                          0\n",
       "il_util                               0\n",
       "open_rv_12m                           0\n",
       "open_rv_24m                           0\n",
       "max_bal_bc                            0\n",
       "all_util                              0\n",
       "total_rev_hi_lim                      0\n",
       "inq_fi                                0\n",
       "total_cu_tl                           0\n",
       "inq_last_12m                          0\n",
       "acc_open_past_24mths                  0\n",
       "avg_cur_bal                           0\n",
       "bc_open_to_buy                        0\n",
       "bc_util                               0\n",
       "mo_sin_old_il_acct                    0\n",
       "total_il_high_credit_limit            0\n",
       "dtype: int64"
      ]
     },
     "execution_count": 33,
     "metadata": {},
     "output_type": "execute_result"
    }
   ],
   "source": [
    "# Pandas dataframe object offers `nunique` function which give the number of unique elements in each column\n",
    "df.nunique().sort_values(ascending=False)\n",
    "\n",
    "# Quick observation\n",
    "#-------------------\n",
    "# 1. Some columns have unique values equal to the number of columns (39717)\n",
    "# 2. Some columns have 0 unique values! Must be all empty\n",
    "# 3. Both such columns are not going to help us with data analysis\n",
    "# 4. Columns `loan_amnt`, `funded_amnt` and `funded_amnt_inv` says the borrower applied for an amount, but the institution decided to fund either more or less.\n",
    "#    For our analysis we only need the amount the borrower applied for. Hence the investor related columns can be removed before we proceed furthen.\n",
    "# 5. While `addr_state` has 50 unique values, the `zip_code` only has 823 unique values (Proportionally less). There's something going on with `zip_code`.\n",
    "#-------------------"
   ]
  },
  {
   "cell_type": "code",
   "execution_count": 34,
   "metadata": {},
   "outputs": [
    {
     "name": "stdout",
     "output_type": "stream",
     "text": [
      "verification_status_joint         39717\n",
      "annual_inc_joint                  39717\n",
      "mo_sin_old_rev_tl_op              39717\n",
      "mo_sin_old_il_acct                39717\n",
      "bc_util                           39717\n",
      "bc_open_to_buy                    39717\n",
      "avg_cur_bal                       39717\n",
      "acc_open_past_24mths              39717\n",
      "inq_last_12m                      39717\n",
      "total_cu_tl                       39717\n",
      "inq_fi                            39717\n",
      "total_rev_hi_lim                  39717\n",
      "all_util                          39717\n",
      "max_bal_bc                        39717\n",
      "open_rv_24m                       39717\n",
      "open_rv_12m                       39717\n",
      "il_util                           39717\n",
      "total_bal_il                      39717\n",
      "mths_since_rcnt_il                39717\n",
      "open_il_24m                       39717\n",
      "open_il_12m                       39717\n",
      "open_il_6m                        39717\n",
      "open_acc_6m                       39717\n",
      "tot_cur_bal                       39717\n",
      "tot_coll_amt                      39717\n",
      "mo_sin_rcnt_rev_tl_op             39717\n",
      "mo_sin_rcnt_tl                    39717\n",
      "mort_acc                          39717\n",
      "num_rev_tl_bal_gt_0               39717\n",
      "total_bc_limit                    39717\n",
      "total_bal_ex_mort                 39717\n",
      "tot_hi_cred_lim                   39717\n",
      "percent_bc_gt_75                  39717\n",
      "pct_tl_nvr_dlq                    39717\n",
      "num_tl_op_past_12m                39717\n",
      "num_tl_90g_dpd_24m                39717\n",
      "num_tl_30dpd                      39717\n",
      "num_tl_120dpd_2m                  39717\n",
      "num_sats                          39717\n",
      "num_rev_accts                     39717\n",
      "mths_since_recent_bc              39717\n",
      "num_op_rev_tl                     39717\n",
      "num_il_tl                         39717\n",
      "num_bc_tl                         39717\n",
      "num_bc_sats                       39717\n",
      "num_actv_rev_tl                   39717\n",
      "num_actv_bc_tl                    39717\n",
      "num_accts_ever_120_pd             39717\n",
      "mths_since_recent_revol_delinq    39717\n",
      "mths_since_recent_inq             39717\n",
      "mths_since_recent_bc_dlq          39717\n",
      "dti_joint                         39717\n",
      "total_il_high_credit_limit        39717\n",
      "mths_since_last_major_derog       39717\n",
      "next_pymnt_d                      38577\n",
      "mths_since_last_record            36931\n",
      "mths_since_last_delinq            25682\n",
      "desc                              12942\n",
      "emp_title                          2459\n",
      "emp_length                         1075\n",
      "pub_rec_bankruptcies                697\n",
      "last_pymnt_d                         71\n",
      "collections_12_mths_ex_med           56\n",
      "chargeoff_within_12_mths             56\n",
      "revol_util                           50\n",
      "tax_liens                            39\n",
      "title                                11\n",
      "last_credit_pull_d                    2\n",
      "pymnt_plan                            0\n",
      "url                                   0\n",
      "loan_status                           0\n",
      "purpose                               0\n",
      "issue_d                               0\n",
      "verification_status                   0\n",
      "application_type                      0\n",
      "annual_inc                            0\n",
      "home_ownership                        0\n",
      "zip_code                              0\n",
      "grade                                 0\n",
      "installment                           0\n",
      "int_rate                              0\n",
      "term                                  0\n",
      "funded_amnt_inv                       0\n",
      "funded_amnt                           0\n",
      "loan_amnt                             0\n",
      "sub_grade                             0\n",
      "inq_last_6mths                        0\n",
      "addr_state                            0\n",
      "dti                                   0\n",
      "member_id                             0\n",
      "acc_now_delinq                        0\n",
      "last_pymnt_amnt                       0\n",
      "collection_recovery_fee               0\n",
      "recoveries                            0\n",
      "total_rec_late_fee                    0\n",
      "total_rec_int                         0\n",
      "total_rec_prncp                       0\n",
      "total_pymnt_inv                       0\n",
      "total_pymnt                           0\n",
      "out_prncp_inv                         0\n",
      "out_prncp                             0\n",
      "initial_list_status                   0\n",
      "total_acc                             0\n",
      "revol_bal                             0\n",
      "pub_rec                               0\n",
      "open_acc                              0\n",
      "delinq_amnt                           0\n",
      "policy_code                           0\n",
      "earliest_cr_line                      0\n",
      "delinq_2yrs                           0\n",
      "id                                    0\n",
      "dtype: int64\n"
     ]
    }
   ],
   "source": [
    "# Get the columns in the decending order of most number of null values \n",
    "print(df.isnull().sum().sort_values(ascending=False))\n",
    "\n",
    "# Quick observation\n",
    "#-------------------\n",
    "# 1. Some columns have null or empty values equal to the number of columns (39717)\n",
    "# 2. Such columns are not going to help us with data analysis\n",
    "#-------------------"
   ]
  },
  {
   "cell_type": "code",
   "execution_count": 35,
   "metadata": {},
   "outputs": [
    {
     "name": "stdout",
     "output_type": "stream",
     "text": [
      "Index(['mths_since_last_major_derog', 'annual_inc_joint', 'dti_joint',\n",
      "       'verification_status_joint', 'tot_coll_amt', 'tot_cur_bal',\n",
      "       'open_acc_6m', 'open_il_6m', 'open_il_12m', 'open_il_24m',\n",
      "       'mths_since_rcnt_il', 'total_bal_il', 'il_util', 'open_rv_12m',\n",
      "       'open_rv_24m', 'max_bal_bc', 'all_util', 'total_rev_hi_lim', 'inq_fi',\n",
      "       'total_cu_tl', 'inq_last_12m', 'acc_open_past_24mths', 'avg_cur_bal',\n",
      "       'bc_open_to_buy', 'bc_util', 'mo_sin_old_il_acct',\n",
      "       'mo_sin_old_rev_tl_op', 'mo_sin_rcnt_rev_tl_op', 'mo_sin_rcnt_tl',\n",
      "       'mort_acc', 'mths_since_recent_bc', 'mths_since_recent_bc_dlq',\n",
      "       'mths_since_recent_inq', 'mths_since_recent_revol_delinq',\n",
      "       'num_accts_ever_120_pd', 'num_actv_bc_tl', 'num_actv_rev_tl',\n",
      "       'num_bc_sats', 'num_bc_tl', 'num_il_tl', 'num_op_rev_tl',\n",
      "       'num_rev_accts', 'num_rev_tl_bal_gt_0', 'num_sats', 'num_tl_120dpd_2m',\n",
      "       'num_tl_30dpd', 'num_tl_90g_dpd_24m', 'num_tl_op_past_12m',\n",
      "       'pct_tl_nvr_dlq', 'percent_bc_gt_75', 'tot_hi_cred_lim',\n",
      "       'total_bal_ex_mort', 'total_bc_limit', 'total_il_high_credit_limit'],\n",
      "      dtype='object')\n",
      "Number of columns with null values in all the rows: 54\n"
     ]
    }
   ],
   "source": [
    "# Get those column which has null values accross the series\n",
    "print(df.columns[df.isnull().all()])\n",
    "\n",
    "# Let us find out how many columns has null values in all the rows.\n",
    "print(f\"Number of columns with null values in all the rows: {df.columns[df.isnull().all()].size}\")\n",
    "\n",
    "# Quick observation\n",
    "#-------------------\n",
    "# 1. We have 54 columns which has null values in all the rows\n",
    "# 2. We can safely remove them\n",
    "#-------------------"
   ]
  },
  {
   "cell_type": "code",
   "execution_count": null,
   "metadata": {},
   "outputs": [
    {
     "name": "stdout",
     "output_type": "stream",
     "text": [
      "Index(['emp_title', 'emp_length', 'desc', 'title', 'mths_since_last_delinq',\n",
      "       'mths_since_last_record', 'revol_util', 'last_pymnt_d', 'next_pymnt_d',\n",
      "       'last_credit_pull_d', 'collections_12_mths_ex_med',\n",
      "       'chargeoff_within_12_mths', 'pub_rec_bankruptcies', 'tax_liens'],\n",
      "      dtype='object')\n",
      "emp_length\n",
      "10+ years    8879\n",
      "< 1 year     4583\n",
      "Name: count, dtype: int64\n",
      "next_pymnt_d\n",
      "Jun-16    1125\n",
      "Jul-16      15\n",
      "Name: count, dtype: int64\n",
      "pub_rec_bankruptcies\n",
      "0.0    37339\n",
      "1.0     1674\n",
      "Name: count, dtype: int64\n",
      "Column can be deleted: collections_12_mths_ex_med\n",
      "Column can be deleted: chargeoff_within_12_mths\n",
      "Column can be deleted: tax_liens\n"
     ]
    }
   ],
   "source": [
    "# Get those column which has null values is some rows but not all\n",
    "print(df.columns[~df.isnull().all() & df.isnull().any()])\n",
    "\n",
    "someButNotAllNulls = df.columns[~df.isnull().all() & df.isnull().any()]\n",
    "\n",
    "for col in someButNotAllNulls:\n",
    "    if ((df[col].value_counts().size < 15) & (df[col].value_counts().size > 1)):\n",
    "        print(df[col].value_counts().head(2))\n",
    "\n",
    "for col in someButNotAllNulls:\n",
    "    if (df[col].value_counts().size == 1):\n",
    "        print(f\"Column can be deleted: {df[col].name}\")\n",
    "        \n",
    "# Quick observation - columns which has some value and not all nulls\n",
    "#--------------------------------------------------------------------\n",
    "# 1. The columns which has one unique value [`collections_12_mths_ex_med`, `chargeoff_within_12_mths`, `tax_liens`]\n",
    "# 2. The above listed columns can safely be deleted\n",
    "# 3. The column `next_pymnt_d` doesn't have enough information for analysis and hence can be deleted.\n",
    "#--------------------------------------------------------------------"
   ]
  },
  {
   "cell_type": "code",
   "execution_count": null,
   "metadata": {},
   "outputs": [
    {
     "name": "stdout",
     "output_type": "stream",
     "text": [
      "Index(['id', 'member_id', 'loan_amnt', 'funded_amnt', 'funded_amnt_inv',\n",
      "       'term', 'int_rate', 'installment', 'grade', 'sub_grade',\n",
      "       'home_ownership', 'annual_inc', 'verification_status', 'issue_d',\n",
      "       'loan_status', 'pymnt_plan', 'url', 'purpose', 'zip_code', 'addr_state',\n",
      "       'dti', 'delinq_2yrs', 'earliest_cr_line', 'inq_last_6mths', 'open_acc',\n",
      "       'pub_rec', 'revol_bal', 'total_acc', 'initial_list_status', 'out_prncp',\n",
      "       'out_prncp_inv', 'total_pymnt', 'total_pymnt_inv', 'total_rec_prncp',\n",
      "       'total_rec_int', 'total_rec_late_fee', 'recoveries',\n",
      "       'collection_recovery_fee', 'last_pymnt_amnt', 'policy_code',\n",
      "       'application_type', 'acc_now_delinq', 'delinq_amnt'],\n",
      "      dtype='object')\n",
      "term\n",
      "36 months    29096\n",
      "60 months    10621\n",
      "Name: count, dtype: int64\n",
      "grade\n",
      "B    12020\n",
      "A    10085\n",
      "Name: count, dtype: int64\n",
      "home_ownership\n",
      "RENT        18899\n",
      "MORTGAGE    17659\n",
      "Name: count, dtype: int64\n",
      "verification_status\n",
      "Not Verified    16921\n",
      "Verified        12809\n",
      "Name: count, dtype: int64\n",
      "loan_status\n",
      "Fully Paid     32950\n",
      "Charged Off     5627\n",
      "Name: count, dtype: int64\n",
      "purpose\n",
      "debt_consolidation    18641\n",
      "credit_card            5130\n",
      "Name: count, dtype: int64\n",
      "delinq_2yrs\n",
      "0    35405\n",
      "1     3303\n",
      "Name: count, dtype: int64\n",
      "inq_last_6mths\n",
      "0    19300\n",
      "1    10971\n",
      "Name: count, dtype: int64\n",
      "pub_rec\n",
      "0    37601\n",
      "1     2056\n",
      "Name: count, dtype: int64\n",
      "Column can be deleted: pymnt_plan\n",
      "Column can be deleted: initial_list_status\n",
      "Column can be deleted: policy_code\n",
      "Column can be deleted: application_type\n",
      "Column can be deleted: acc_now_delinq\n",
      "Column can be deleted: delinq_amnt\n"
     ]
    }
   ],
   "source": [
    "# Get those column which has no null values\n",
    "print(df.columns[~df.isnull().any()])\n",
    "\n",
    "noNulls = df.columns[~df.isnull().any()]\n",
    "\n",
    "for col in noNulls:\n",
    "    if ((df[col].value_counts().size < 15) & (df[col].value_counts().size > 1)):\n",
    "        print(df[col].value_counts().head(2))\n",
    "\n",
    "for col in noNulls:\n",
    "    if (df[col].value_counts().size == 1):\n",
    "        print(f\"Column can be deleted: {df[col].name}\")\n",
    "        \n",
    "# Quick observation - columns with no null values\n",
    "#-------------------------------------------------\n",
    "# 1. The columns which has one unique value [pymnt_plan, initial_list_status, policy_code, application_type, acc_now_delinq, delinq_amnt]\n",
    "# 2. The above listed columns can safely be deleted\n",
    "#-------------------------------------------------"
   ]
  },
  {
   "cell_type": "markdown",
   "metadata": {},
   "source": [
    "## **3. Data Preparation**\n",
    "\n"
   ]
  },
  {
   "cell_type": "markdown",
   "metadata": {},
   "source": [
    "### **3.1. Data Cleaning**\n",
    "- Remove columns\n",
    "- Handle missing / null values\n",
    "- Remove duplicates\n",
    "- Calculate IQR and remove outliers\n",
    "\n"
   ]
  },
  {
   "cell_type": "markdown",
   "metadata": {},
   "source": [
    "### **3.2. Data Engineering**\n",
    "- Create derived columns\n",
    "- Map categorical variables\n",
    "- Convert data types\n",
    "\n"
   ]
  },
  {
   "cell_type": "markdown",
   "metadata": {},
   "source": [
    "### **3.2. Data Exploration**\n",
    "- Summarize initial understanding"
   ]
  },
  {
   "cell_type": "markdown",
   "metadata": {},
   "source": [
    "## **4. Exploratory Data Analysis (EDA)**\n",
    "\n"
   ]
  },
  {
   "cell_type": "markdown",
   "metadata": {},
   "source": [
    "### **4.1. Univariate Analysis**\n",
    "\n"
   ]
  },
  {
   "cell_type": "markdown",
   "metadata": {},
   "source": [
    "#### **4.1.1. Numeric Variables**\n",
    "- Histogram for distribution\n",
    "- Boxplots to find outliers\n",
    "\n"
   ]
  },
  {
   "cell_type": "markdown",
   "metadata": {},
   "source": [
    "#### **4.1.2. Categorical Variables**\n",
    "- Bar charts for frequency distribution\n",
    "\n"
   ]
  },
  {
   "cell_type": "markdown",
   "metadata": {},
   "source": [
    "### **4.2. Segmented Univariate Analysis**\n",
    "- Boxplots by categorical variables\n",
    "\n"
   ]
  },
  {
   "cell_type": "markdown",
   "metadata": {},
   "source": [
    "### **4.3. Bivariate Analysis**\n",
    "\n"
   ]
  },
  {
   "cell_type": "markdown",
   "metadata": {},
   "source": [
    "#### **4.3.1. Numeric Variables by Numeric Variables**\n",
    "- Scatter plots\n",
    "- Correlation heatmaps\n",
    "\n"
   ]
  },
  {
   "cell_type": "markdown",
   "metadata": {},
   "source": [
    "#### **4.3.2. Numeric Variables by Categorical Variables**\n",
    "- Boxplots for comparitive analysis\n",
    "- Violin plots to find the density\n",
    "\n"
   ]
  },
  {
   "cell_type": "markdown",
   "metadata": {},
   "source": [
    "#### **4.3.3. Categorical Variables by Categorical Variables**\n",
    "- Boxplots grouped by categories\n",
    "- Heatmaps to find proportions\n",
    "\n"
   ]
  },
  {
   "cell_type": "markdown",
   "metadata": {},
   "source": [
    "## **5. Summary and Results**\n",
    "\n"
   ]
  },
  {
   "cell_type": "markdown",
   "metadata": {},
   "source": [
    "### **5.1. Summary**\n",
    "- List the summary of insights leading to loan default\n",
    "\n"
   ]
  },
  {
   "cell_type": "markdown",
   "metadata": {},
   "source": [
    "### **5.2. Recommendations**\n"
   ]
  }
 ],
 "metadata": {
  "kernelspec": {
   "display_name": "base",
   "language": "python",
   "name": "python3"
  },
  "language_info": {
   "codemirror_mode": {
    "name": "ipython",
    "version": 3
   },
   "file_extension": ".py",
   "mimetype": "text/x-python",
   "name": "python",
   "nbconvert_exporter": "python",
   "pygments_lexer": "ipython3",
   "version": "3.12.7"
  }
 },
 "nbformat": 4,
 "nbformat_minor": 2
}
